{
  "nbformat": 4,
  "nbformat_minor": 0,
  "metadata": {
    "colab": {
      "name": "Unit 2_L2_String and List.ipynb",
      "provenance": [],
      "collapsed_sections": [],
      "include_colab_link": true
    },
    "kernelspec": {
      "name": "python3",
      "display_name": "Python 3"
    }
  },
  "cells": [
    {
      "cell_type": "markdown",
      "metadata": {
        "id": "view-in-github",
        "colab_type": "text"
      },
      "source": [
        "<a href=\"https://colab.research.google.com/github/sheli90610/Data2/blob/main/python/Unit_2_L2_String_and_List.ipynb\" target=\"_parent\"><img src=\"https://colab.research.google.com/assets/colab-badge.svg\" alt=\"Open In Colab\"/></a>"
      ]
    },
    {
      "cell_type": "markdown",
      "source": [
        ""
      ],
      "metadata": {
        "id": "lA2epMapPzA8"
      }
    },
    {
      "cell_type": "markdown",
      "source": [
        "**dictonary question 1"
      ],
      "metadata": {
        "id": "tyAOVyJHRz8z"
      }
    },
    {
      "cell_type": "code",
      "source": [
        "biography = {\n",
        "    'first name':'jayden',\n",
        "    'last name':'grace',\n",
        "    'age':'25',\n",
        "    'city':'brooklyn',\n",
        "    'ethnnicity':['african american']}\n",
        "print(biography)\n"
      ],
      "metadata": {
        "colab": {
          "base_uri": "https://localhost:8080/"
        },
        "id": "ZSDdijdfR2g8",
        "outputId": "84e85198-e1b2-41df-ffbc-0b28a2ca06ca"
      },
      "execution_count": null,
      "outputs": [
        {
          "output_type": "stream",
          "name": "stdout",
          "text": [
            "{'first name': 'jayden', 'last name': 'grace', 'age': '25', 'city': 'brooklyn', 'ethnnicity': ['african american']}\n"
          ]
        }
      ]
    },
    {
      "cell_type": "markdown",
      "source": [
        "dictionary question 2"
      ],
      "metadata": {
        "id": "mS6ZO1sHZqYe"
      }
    },
    {
      "cell_type": "code",
      "source": [
        "people ={'jackson':'23','alma':'18','rabbi'}"
      ],
      "metadata": {
        "id": "bjYTTczLZty4"
      },
      "execution_count": null,
      "outputs": []
    },
    {
      "cell_type": "markdown",
      "source": [
        "Multiple"
      ],
      "metadata": {
        "id": "clr4TIHtAoeE"
      }
    },
    {
      "cell_type": "code",
      "source": [
        "x = 30\n",
        "if x > 30:\n",
        "y = 45\n",
        "x >= 25 or y <= 50\n",
        "TRUE"
      ],
      "metadata": {
        "id": "aB2QK0B2Arp7"
      },
      "execution_count": null,
      "outputs": []
    },
    {
      "cell_type": "markdown",
      "source": [
        ""
      ],
      "metadata": {
        "id": "aB9RSCYhtxYB"
      }
    },
    {
      "cell_type": "code",
      "source": [
        "x = 30\n",
        "if x <= 30:\n",
        "  print('Fuck you')\n",
        "else:\n",
        "    print('incorrect')"
      ],
      "metadata": {
        "id": "zVZx6Ooa0aXC",
        "colab": {
          "base_uri": "https://localhost:8080/"
        },
        "outputId": "a2a927b7-ab53-43e3-c059-8bd2cb6c2724"
      },
      "execution_count": null,
      "outputs": [
        {
          "output_type": "stream",
          "name": "stdout",
          "text": [
            "Fuck you\n"
          ]
        }
      ]
    },
    {
      "cell_type": "code",
      "source": [
        "delayed_flights = ['Spirit Air', 'United', 'American Airlines']\n",
        "'United' in delayed_flights"
      ],
      "metadata": {
        "colab": {
          "base_uri": "https://localhost:8080/"
        },
        "id": "CRDk-fLL270Z",
        "outputId": "a35861b9-d9d6-4e36-887c-66a37c6b91d3"
      },
      "execution_count": null,
      "outputs": [
        {
          "output_type": "execute_result",
          "data": {
            "text/plain": [
              "True"
            ]
          },
          "metadata": {},
          "execution_count": 42
        }
      ]
    },
    {
      "cell_type": "code",
      "source": [
        "expected_flight_delays = ['United Airline', 'Spirit', 'American Airlines']\n",
        "flight_already_delayed = 'Delta'\n",
        "if flight_already_delayed not in expected_flight_delays:\n",
        "  print(flight_already_delayed.title() + \", is delayed\")\n"
      ],
      "metadata": {
        "colab": {
          "base_uri": "https://localhost:8080/"
        },
        "id": "poEYvfk33m9w",
        "outputId": "0c05d9ab-53b4-431b-ae87-a3b6c79f1a5f"
      },
      "execution_count": null,
      "outputs": [
        {
          "output_type": "stream",
          "name": "stdout",
          "text": [
            "Delta, is delayed\n"
          ]
        }
      ]
    },
    {
      "cell_type": "markdown",
      "source": [
        "Lists"
      ],
      "metadata": {
        "id": "tC8JT4MNzEi_"
      }
    },
    {
      "cell_type": "code",
      "source": [
        "friends = ['jesicca', 'kelly', 'jack' 'dawa']\n",
        "print(friends)"
      ],
      "metadata": {
        "id": "sFeFtSPqzHkc"
      },
      "execution_count": null,
      "outputs": []
    },
    {
      "cell_type": "code",
      "source": [
        "num=3\n",
        "message = \"My fav number is \"+str(num)\n",
        "print(message)"
      ],
      "metadata": {
        "colab": {
          "base_uri": "https://localhost:8080/"
        },
        "id": "iMJN2Ia1Oz4k",
        "outputId": "87e3abb9-f798-427a-ab75-a706de35ecfe"
      },
      "execution_count": null,
      "outputs": [
        {
          "output_type": "stream",
          "name": "stdout",
          "text": [
            "My fav number is 3\n"
          ]
        }
      ]
    },
    {
      "cell_type": "code",
      "metadata": {
        "id": "xDMGl7LCKSeC",
        "colab": {
          "base_uri": "https://localhost:8080/"
        },
        "outputId": "a072b378-2d3b-4655-959a-cb0befe8fe57"
      },
      "source": [
        "#The len() function returns the length of a string:\n",
        " \n",
        "a = \"Hello, World!\"\n",
        "print(len(a))"
      ],
      "execution_count": null,
      "outputs": [
        {
          "output_type": "stream",
          "name": "stdout",
          "text": [
            "13\n"
          ]
        }
      ]
    },
    {
      "cell_type": "code",
      "source": [
        "a =\"Hello, World!\"\n",
        "print(a  +' i am here')\n"
      ],
      "metadata": {
        "id": "eI09j1oOXG2a",
        "colab": {
          "base_uri": "https://localhost:8080/"
        },
        "outputId": "d54d7949-ff28-4d00-eb0a-52b3c2f44a03"
      },
      "execution_count": null,
      "outputs": [
        {
          "output_type": "stream",
          "name": "stdout",
          "text": [
            "Hello, World! i am here\n"
          ]
        }
      ]
    },
    {
      "cell_type": "code",
      "metadata": {
        "id": "Pc3cEQ6HKdYe",
        "colab": {
          "base_uri": "https://localhost:8080/"
        },
        "outputId": "56796fed-b5ae-427c-cbc4-c94c4ac41f94"
      },
      "source": [
        "#Check if \"free\" is present in the following text:\n",
        "\n",
        "txt = \"The best things in life are free!\"\n",
        "print(\"free\" in txt)\n",
        "print(\"hhhhe\" in txt)"
      ],
      "execution_count": null,
      "outputs": [
        {
          "output_type": "stream",
          "name": "stdout",
          "text": [
            "True\n",
            "False\n"
          ]
        }
      ]
    },
    {
      "cell_type": "code",
      "metadata": {
        "id": "Y0PJgpN8IB2r",
        "colab": {
          "base_uri": "https://localhost:8080/"
        },
        "outputId": "8cde6d3d-f14e-4e72-bc7e-94e7d035bf59"
      },
      "source": [
        "age = 36\n",
        "txt = \"My name is me, and I am {} years old\"\n",
        "print(txt.format(age))\n",
        "print(\"My name is me,and I am\"+' ' + str(age)+\"years old\")\n"
      ],
      "execution_count": null,
      "outputs": [
        {
          "output_type": "stream",
          "name": "stdout",
          "text": [
            "My name is me, and I am 36 years old\n",
            "My name is me,and I am 36years old\n"
          ]
        }
      ]
    },
    {
      "cell_type": "code",
      "source": [
        "travel = [\"Paris\" , \"Italy\" ,\"Dubai\" , \"Prague\" , \"Rome\"]\n",
        "travel.sort(reverse=True)\n",
        "print(travel)\n"
      ],
      "metadata": {
        "colab": {
          "base_uri": "https://localhost:8080/"
        },
        "id": "nNVfoKLXhZWM",
        "outputId": "4749b019-7745-43ea-cffa-0b7496bec31b"
      },
      "execution_count": null,
      "outputs": [
        {
          "output_type": "stream",
          "name": "stdout",
          "text": [
            "['Rome', 'Prague', 'Paris', 'Italy', 'Dubai']\n"
          ]
        }
      ]
    },
    {
      "cell_type": "code",
      "source": [
        "\n",
        "\n",
        "\n",
        "\n",
        "\n",
        "\n",
        "Day = 15\n",
        "print(“Do you want to hangout on the” + “ ”+ str(Day) + “ ”+ “th of the month”)\n",
        "\n",
        "\n",
        "\n",
        "\n",
        "\n",
        "\n"
      ],
      "metadata": {
        "colab": {
          "base_uri": "https://localhost:8080/",
          "height": 133
        },
        "id": "W2O7MaYcstFD",
        "outputId": "33489ad8-c20a-4bf1-f8c8-4b0bc693ffc2"
      },
      "execution_count": null,
      "outputs": [
        {
          "output_type": "error",
          "ename": "SyntaxError",
          "evalue": "ignored",
          "traceback": [
            "\u001b[0;36m  File \u001b[0;32m\"<ipython-input-7-702b838151e9>\"\u001b[0;36m, line \u001b[0;32m8\u001b[0m\n\u001b[0;31m    print(“Do you want to hangout on the” + “ ”+ str(Day) + “ ”+ “th of the month”)\u001b[0m\n\u001b[0m            ^\u001b[0m\n\u001b[0;31mSyntaxError\u001b[0m\u001b[0;31m:\u001b[0m invalid character in identifier\n"
          ]
        }
      ]
    },
    {
      "cell_type": "code",
      "metadata": {
        "id": "DwMnw7weIG_S",
        "colab": {
          "base_uri": "https://localhost:8080/"
        },
        "outputId": "fb8aa2e1-a6ec-4032-87c0-a49611e8d423"
      },
      "source": [
        "#Demonstrate one String Concatenation example.\n",
        "str_a = 'String'\n",
        "str_b = 'Example' \n",
        "str_c = str_a + ' Concatenation ' + str_b\n",
        "print(str_c)"
      ],
      "execution_count": null,
      "outputs": [
        {
          "output_type": "stream",
          "name": "stdout",
          "text": [
            "String Concatenation Example\n"
          ]
        }
      ]
    },
    {
      "cell_type": "code",
      "metadata": {
        "id": "34uyI7VCFte8",
        "colab": {
          "base_uri": "https://localhost:8080/"
        },
        "outputId": "689d78ae-40c4-447e-9e61-0adfa0fdcecc"
      },
      "source": [
        "thislist = [\"apple\", \"banana\", \"cherry\", \"apple\", \"cherry\"]\n",
        "print(thislist)"
      ],
      "execution_count": null,
      "outputs": [
        {
          "output_type": "stream",
          "name": "stdout",
          "text": [
            "['apple', 'banana', 'cherry', 'apple', 'cherry']\n"
          ]
        }
      ]
    },
    {
      "cell_type": "code",
      "metadata": {
        "id": "RDd1MaTIFzQJ",
        "colab": {
          "base_uri": "https://localhost:8080/"
        },
        "outputId": "8ab11164-8a20-4aa6-8c53-047854f909e2"
      },
      "source": [
        "list1 = [\"apple\", \"banana\", \"cherry\"]\n",
        "list2 = [1, 5, 7, 9, 3]\n",
        "list3 = [True, False, False]\n",
        "print(type(list3))"
      ],
      "execution_count": null,
      "outputs": [
        {
          "output_type": "stream",
          "name": "stdout",
          "text": [
            "<class 'list'>\n"
          ]
        }
      ]
    },
    {
      "cell_type": "code",
      "metadata": {
        "id": "YIkplprTF53n"
      },
      "source": [
        "thislist = [\"apple\", 66, \"orange\",]\n",
        "\n",
        "print(thislist)"
      ],
      "execution_count": null,
      "outputs": []
    },
    {
      "cell_type": "code",
      "metadata": {
        "colab": {
          "base_uri": "https://localhost:8080/"
        },
        "id": "Tha9pQ7EE9he",
        "outputId": "9c1df5d1-98ed-435d-ef26-028b2c5b737e"
      },
      "source": [
        "#nested list only for CS track\n",
        "#To add new values to the end of the nested list, use append() method.\n",
        "L = ['a', ['bb', 'cc'],['f','g'], 'd']\n",
        "\n",
        "Lw = ['a''bb','5' 'cc']\n",
        "print(L)\n",
        "print(Lw)\n",
        "# Prints ['a', ['bb', 'cc', 'xx'], 'd']\n",
        "\n"
      ],
      "execution_count": null,
      "outputs": [
        {
          "output_type": "stream",
          "name": "stdout",
          "text": [
            "['a', ['bb', 'cc'], ['f', 'g'], 'd']\n",
            "['abb', '5cc']\n"
          ]
        }
      ]
    },
    {
      "cell_type": "code",
      "metadata": {
        "id": "I-CCIB5fFSZ9",
        "colab": {
          "base_uri": "https://localhost:8080/"
        },
        "outputId": "06994923-1f6c-4199-f640-a4284dd65889"
      },
      "source": [
        "# insert an item at a specific position in a nested list, use insert() method.\n",
        "L = ['a', ['bb', 'cc'], 'd']\n",
        "L[1].insert(2,'xx')\n",
        "print(L)\n"
      ],
      "execution_count": null,
      "outputs": [
        {
          "output_type": "stream",
          "name": "stdout",
          "text": [
            "['a', ['bb', 'cc', 'xx'], 'd']\n"
          ]
        }
      ]
    },
    {
      "cell_type": "code",
      "metadata": {
        "id": "vB21-PC6FfCk"
      },
      "source": [
        "#change the value of a specific item in a nested list by referring to its index number.\n",
        "L = ['a', ['bb', 'cc'], 'd']\n",
        "L[1][1] = 'k'\n",
        "print(L)"
      ],
      "execution_count": null,
      "outputs": []
    },
    {
      "cell_type": "code",
      "metadata": {
        "id": "gEhlSNfPFj0Q"
      },
      "source": [
        "#You can merge one list into another by using extend() method.\n",
        "L = ['a', ['bb', 'cc'], 'd']\n",
        "L[1].extend(['g',2,3])\n",
        "print(L)"
      ],
      "execution_count": null,
      "outputs": []
    },
    {
      "cell_type": "code",
      "metadata": {
        "id": "2DMAKzw3Fmd5"
      },
      "source": [
        "testt = [\"apple\", \"banana\", \"cherry\"]\n",
        "if \"apple\" in testt:\n",
        "  print(\"Yes, 'apple' is in the fruits list\")"
      ],
      "execution_count": null,
      "outputs": []
    },
    {
      "cell_type": "code",
      "metadata": {
        "id": "jFOPtNvZGKQO"
      },
      "source": [
        "thislist = [\"apple\", \"banana\", \"cherry\"]\n",
        "thislist[1] = \"blackcurrant\"\n",
        "print(thislist)"
      ],
      "execution_count": null,
      "outputs": []
    },
    {
      "cell_type": "code",
      "metadata": {
        "id": "4pm1DeVNGU5t"
      },
      "source": [
        "thislist = [\"apple\", \"banana\", \"cherry\"]\n",
        "thislist[1:3] = [\"watermelon\"]\n",
        "print(thislist)"
      ],
      "execution_count": null,
      "outputs": []
    },
    {
      "cell_type": "code",
      "metadata": {
        "id": "QQvfV1gzGfXS"
      },
      "source": [
        "fruits=[55,'banana','cherry']\n",
        "print(fruits)\n",
        "fruits.append(\"orange\")\n",
        "print(fruits)"
      ],
      "execution_count": null,
      "outputs": []
    },
    {
      "cell_type": "code",
      "metadata": {
        "id": "YTo90fUqGnYq"
      },
      "source": [
        "#Add a list to a list:\n",
        "a = [\"apple\", \"banana\", \"cherry\"]\n",
        "b = [\"Ford\", \"BMW\", \"Volvo\"]\n",
        "a.append(b)\n",
        "print(a)"
      ],
      "execution_count": null,
      "outputs": []
    },
    {
      "cell_type": "code",
      "metadata": {
        "id": "IExtkgAFGvLQ"
      },
      "source": [
        "#Loop Through the Index Numbers\n",
        "thislist = [\"apple\", \"banana\", \"cherry\"]\n",
        "for i in range(len(thislist)):\n",
        "  print(thislist[i])\n",
        "print('nnn')"
      ],
      "execution_count": null,
      "outputs": []
    },
    {
      "cell_type": "code",
      "metadata": {
        "id": "LDhKcLnSG03B"
      },
      "source": [
        "#Insert an item as the second position:\n",
        "thislist = [\"apple\", \"banana\", \"cherry\"]\n",
        "thislist.insert(1, \"orange\")\n",
        "print(thislist)"
      ],
      "execution_count": null,
      "outputs": []
    },
    {
      "cell_type": "code",
      "metadata": {
        "id": "hNd1BJK2G7oE"
      },
      "source": [
        "#extend elements from another list to the current list,\n",
        "thislist = [\"apple\", \"banana\", \"cherry\"]\n",
        "tropical = [\"mango\", \"pineapple\", \"papaya\"]\n",
        "thislist.extend(tropical)\n",
        "print(thislist)"
      ],
      "execution_count": null,
      "outputs": []
    },
    {
      "cell_type": "code",
      "metadata": {
        "id": "DUcTsqndHfxn"
      },
      "source": [
        "fruit1 = [\"pineapple\", \"kwi\", \"cherry\",\"Lemon\",\"babana\"]\n",
        "print(fruit1)\n",
        "fruit2 = (\"melon\", \"orange\")\n",
        "fruit1.extend(fruit2)\n",
        "print(fruit1)\n",
        "print(len(fruit1))\n",
        "fruit1.remove(\"orange\")\n",
        "print(fruit1)\n",
        "print(len(fruit1))\n",
        "fruit1.sort()\n",
        "print(\"sorted List\",fruit1)"
      ],
      "execution_count": null,
      "outputs": []
    },
    {
      "cell_type": "code",
      "metadata": {
        "id": "aQFTkF32HuLm",
        "colab": {
          "base_uri": "https://localhost:8080/",
          "height": 122
        },
        "outputId": "cf1c3b3b-1c19-41a3-ef23-e74b3ced15b4"
      },
      "source": [
        "a = [\"car\", [\"bmw\", \"kia\", \"ford\"], \"Truck\", [\"pick up\", \"monster truck\", [\"ford\", \"gmc\"]], \"motorcycle\", [\"Honda\"]]\n",
        "print(a[0])\n",
        "print(a[1])\n",
        "print(a[2])\n",
        "print(a[3])\n",
        "print(a[1][1])\n",
        "\n",
        "#to get ford which is in 3rd list (second list) and 0 element\n",
        "a[3][2][0]"
      ],
      "execution_count": null,
      "outputs": [
        {
          "output_type": "stream",
          "name": "stdout",
          "text": [
            "car\n",
            "['bmw', 'kia', 'ford']\n",
            "Truck\n",
            "['pick up', 'monster truck', ['ford', 'gmc']]\n",
            "kia\n"
          ]
        },
        {
          "output_type": "execute_result",
          "data": {
            "application/vnd.google.colaboratory.intrinsic+json": {
              "type": "string"
            },
            "text/plain": [
              "'ford'"
            ]
          },
          "metadata": {},
          "execution_count": 7
        }
      ]
    },
    {
      "cell_type": "code",
      "metadata": {
        "id": "B-jXfjB9IUYM"
      },
      "source": [
        "fruit1 = [\"pineapple\", \"kwi\", \"cherry\",\"lemon\",\"babana\"]\n",
        "print(fruit1)\n",
        "fruit2 = [\"melon\", \"orange\"]\n",
        "fruit1.extend(fruit2)\n",
        "print(fruit1)\n",
        "print(len(fruit1))\n",
        "fruit1.remove(\"orange\")\n",
        "print(fruit1)\n",
        "print(len(fruit1))\n",
        "fruit1.sort()\n",
        "print(fruit1)"
      ],
      "execution_count": null,
      "outputs": []
    },
    {
      "cell_type": "code",
      "metadata": {
        "id": "sqg2Pk-CK9Et"
      },
      "source": [
        "#Sort the list alphabetically:\n",
        "\n",
        "cars = ['Ford', 'BMW', 'Volvo']\n",
        "\n",
        "cars.sort()\n",
        "print(cars)"
      ],
      "execution_count": null,
      "outputs": []
    },
    {
      "cell_type": "code",
      "metadata": {
        "id": "8zOeBBZAgwry"
      },
      "source": [
        "list1 = ['physics', 'chemistry', 1997, 2000]\n",
        "list1[:3]"
      ],
      "execution_count": null,
      "outputs": []
    },
    {
      "cell_type": "code",
      "metadata": {
        "id": "lIE0Gru1vycT",
        "colab": {
          "base_uri": "https://localhost:8080/"
        },
        "outputId": "c05c67f3-8a11-4132-94a4-477aa3dca0e0"
      },
      "source": [
        "for number in range(1, 10):\n",
        "    if(number % 2 ==0):\n",
        "        print(number)\n",
        "        #+,-,/,*,**,% ,5 mod 2=----- reminder of (5/2) =2 and reminder =1\n",
        "        #if (1%2) !0"
      ],
      "execution_count": null,
      "outputs": [
        {
          "output_type": "stream",
          "name": "stdout",
          "text": [
            "2\n",
            "4\n",
            "6\n",
            "8\n"
          ]
        }
      ]
    },
    {
      "cell_type": "markdown",
      "metadata": {
        "id": "vKsgQ1uY5yS2"
      },
      "source": [
        "Lecture 5"
      ]
    },
    {
      "cell_type": "code",
      "metadata": {
        "id": "_syyFgwWyPBS"
      },
      "source": [
        "bike='honda'\n",
        "bike=='honda'"
      ],
      "execution_count": null,
      "outputs": []
    },
    {
      "cell_type": "code",
      "metadata": {
        "id": "-tRm9Hsd0dEw"
      },
      "source": [
        "patientexam='ecg'\n",
        "if(patientexam !='ecg'):\n",
        " print('incorect exam')\n",
        "print('corect exam')\n",
        " "
      ],
      "execution_count": null,
      "outputs": []
    },
    {
      "cell_type": "code",
      "metadata": {
        "id": "lkFvosnv16jO"
      },
      "source": [
        "a = 33\n",
        "b = 33\n",
        "if b > a:\n",
        "  print(\"b is greater than a\")\n",
        "elif a == b:\n",
        "  print(\"a and b are equal\")"
      ],
      "execution_count": null,
      "outputs": []
    },
    {
      "cell_type": "code",
      "metadata": {
        "id": "E_BTLPvq2J3C"
      },
      "source": [
        "a = 200\n",
        "b = 33\n",
        "if b > a:\n",
        "  print(\"b is greater than a\")\n",
        "elif a == b:\n",
        "  print(\"a and b are equal\")\n",
        "else:\n",
        "  print(\"a is greater than b\")"
      ],
      "execution_count": null,
      "outputs": []
    },
    {
      "cell_type": "code",
      "metadata": {
        "colab": {
          "base_uri": "https://localhost:8080/"
        },
        "id": "dZOqg08x2U_m",
        "outputId": "753fa471-1e76-420f-f33a-b9fe8350fd4c"
      },
      "source": [
        "#readmit days after discharge from hospital = 29 you will ger error why?\n",
        "readmit_days_after_discharge_from_hospital = 29\n",
        "if readmit_days_after_discharge_from_hospital < 30:\n",
        "  print ('patient readmited whithin 30 days')\n",
        "else:\n",
        "  print ('patient readmited after 30 days')"
      ],
      "execution_count": null,
      "outputs": [
        {
          "output_type": "stream",
          "name": "stdout",
          "text": [
            "patient readmited whithin 30 days\n"
          ]
        }
      ]
    },
    {
      "cell_type": "code",
      "metadata": {
        "id": "hXKSh8Zo5RM0"
      },
      "source": [
        "#multiple conditions and\n",
        "a = 200\n",
        "b = 33\n",
        "c = 100\n",
        "if a > b or c > a:\n",
        "  print(\"one conditions are True\")"
      ],
      "execution_count": null,
      "outputs": []
    },
    {
      "cell_type": "code",
      "metadata": {
        "id": "ublmoT2K5cyD"
      },
      "source": [
        "#multiple conditions or\n",
        "a = 200\n",
        "b = 33\n",
        "c = 500\n",
        "if a > b or a > c:\n",
        "  print(\"At least one of the conditions is True\")\n"
      ],
      "execution_count": null,
      "outputs": []
    },
    {
      "cell_type": "code",
      "metadata": {
        "id": "-2OHlcPt5sA_"
      },
      "source": [
        "# Nested If \n",
        "x = 41\n",
        "\n",
        "if x > 10:\n",
        "  print(\"Above ten,\")\n",
        "  if x > 20:\n",
        "    print(\"and also above 20!\")\n",
        "else:\n",
        "    print(\"but not above 20.\")"
      ],
      "execution_count": null,
      "outputs": []
    },
    {
      "cell_type": "code",
      "metadata": {
        "id": "dngXbNs_5a3H"
      },
      "source": [
        "#Check If List Item Exists\n",
        "#To determine if a specified item is present in a list use the in keyword:\n",
        "#Check if \"apple\" is present in the list:\n",
        "\n",
        "thislist = [\"apple\", \"banana\", \"cherry\"]\n",
        "if \"apple\" in thislist:\n",
        "  print(\"Yes, 'apple' is in the fruits list\")"
      ],
      "execution_count": null,
      "outputs": []
    },
    {
      "cell_type": "code",
      "metadata": {
        "id": "0npwHCS98CNC"
      },
      "source": [
        "patient_exam_record=['echo','ct','scan']\n",
        "'cvt' in patient_exam_record\n"
      ],
      "execution_count": null,
      "outputs": []
    },
    {
      "cell_type": "code",
      "metadata": {
        "id": "gP08SCEi81zW"
      },
      "source": [
        "patient_exam_record_alergieas=['latex','penecilin','asperin']\n",
        "new_alergie='asma'\n",
        "if new_alergie in patient_exam_record_alergieas:\n",
        "  print('alergie in patient_exam_record')\n",
        "else:\n",
        "  print('patient doesnt have '+ new_alergie)\n",
        "  print(new_alergie +' is not in patient alergie list ')"
      ],
      "execution_count": null,
      "outputs": []
    },
    {
      "cell_type": "code",
      "metadata": {
        "id": "WI4a51r0CPhh"
      },
      "source": [
        "fruits = [\"apple\", \"banana\", \"cherry\", \"kiwi\", \"mango\"]\n",
        "newlist = []\n",
        "\n",
        "for x in fruits:\n",
        "  if \"a\" in x:\n",
        "    newlist.append(x)\n",
        "\n",
        "print(newlist)"
      ],
      "execution_count": null,
      "outputs": []
    },
    {
      "cell_type": "markdown",
      "metadata": {
        "id": "02Aq_ceyEnaw"
      },
      "source": [
        "# **Lect 6 Dictionaries**\n",
        "\n",
        "Python Collections (Arrays)\n",
        "There are four collection data types in the Python programming language:\n",
        "\n",
        "List is a collection which is ordered and changeable. Allows duplicate members.\n",
        "Tuple is a collection which is ordered and unchangeable. Allows duplicate members.\n",
        "Set is a collection which is unordered and unindexed. No duplicate members.\n",
        "Dictionary is a collection which is unordered and changeable. No duplicate members.\n",
        "When choosing a collection type, it is useful to understand the properties of that type. Choosing the right type for a particular data set could mean retention of meaning, and, it could mean an increase in efficiency or security."
      ]
    },
    {
      "cell_type": "markdown",
      "source": [
        "# New Section"
      ],
      "metadata": {
        "id": "L3rmVt-n8CP2"
      }
    },
    {
      "cell_type": "markdown",
      "source": [
        "# New Section"
      ],
      "metadata": {
        "id": "EhUQ-MWl8NF4"
      }
    },
    {
      "cell_type": "code",
      "metadata": {
        "id": "m7RsE-f6E3AZ"
      },
      "source": [
        "#Dictionary\n",
        "#Dictionaries are used to store data values in key:value pairs.\n",
        "#A dictionary is a collection which is unordered, changeable and does not allow duplicates.\n",
        "#Dictionaries are written with curly brackets, and have keys and values:\n",
        "#Create and print a dictionary:\n",
        "\n",
        "patient_1 =\t{\n",
        "  \"first_name\": \"john\",\n",
        "  \"Last_name\": \"baker\"\n",
        "}\n",
        "print(patient_1['first_name'])\n",
        "print(patient_1['Last_name'])\n",
        "print(patient_1['first_name'],patient_1['Last_name']+' how are you')"
      ],
      "execution_count": null,
      "outputs": []
    },
    {
      "cell_type": "code",
      "metadata": {
        "id": "BgP8HbSfkmzw"
      },
      "source": [
        "patient_1 =\t{\n",
        "  \"first_name\": \"john\",\n",
        "  \"last_name\": \"baker\",\n",
        "  'mrn':'098987'\n",
        "}\n",
        "patient_name=patient_1['first_name']\n",
        "print(\"hello there, \"+ patient_name)\n",
        "print(patient_1)\n",
        "patient_1['mcrn']='999222'\n",
        "patient_1['new key']='bbds'\n",
        "patient_1  "
      ],
      "execution_count": null,
      "outputs": []
    },
    {
      "cell_type": "code",
      "metadata": {
        "id": "T_3eAig1oUq6"
      },
      "source": [
        "thisdict =\t{\n",
        "  \"brand\": \"Ford\",\n",
        "  \"model\": \"Mustang\",\n",
        "  \"year\": 1964}\n",
        "print(thisdict)\n",
        "thisdict ['owner']='mark'\n",
        "print(thisdict)\n",
        "#to modify the value\n",
        "thisdict ['brand'] ='mercedes benz'\n",
        "print(thisdict)\n",
        "#to remove the value\n",
        "del thisdict ['brand']\n",
        "print(thisdict)"
      ],
      "execution_count": null,
      "outputs": []
    },
    {
      "cell_type": "code",
      "metadata": {
        "id": "y1IG0r7tduBH"
      },
      "source": [
        "thisdict =\t{\n",
        "  \"brand\": \"Ford\",\n",
        "  \"model\": \"Mustang\",\n",
        "  \"year\": 1964\n",
        "}\n",
        "print(thisdict)\n",
        "for key,value in thisdict.items():\n",
        "  print(key,value)\n",
        "# to print keys only\n",
        "  print(key)\n",
        " \n"
      ],
      "execution_count": null,
      "outputs": []
    },
    {
      "cell_type": "code",
      "source": [
        ""
      ],
      "metadata": {
        "id": "MDr5dKkhyxTD"
      },
      "execution_count": null,
      "outputs": []
    },
    {
      "cell_type": "code",
      "metadata": {
        "id": "WDDCj--ndTRT"
      },
      "source": [
        "#Loop Through a Dictionary\n",
        "#You can loop through a dictionary by using a for loop.\n",
        "\n",
        "thisdict =\t{\n",
        "  \"name\": \"Ford\",\n",
        "  \"Last_Name\": \"baker\",\n",
        "  \"mrn\": \"023432\",\n",
        "  \"db\": \"1981/04/09\"\n",
        "}\n",
        "for key,value in thisdict.items():\n",
        "  print(\"\\nkey:\" + key)\n",
        "  print(\"\\nvalue:\" + value)\n"
      ],
      "execution_count": null,
      "outputs": []
    },
    {
      "cell_type": "code",
      "metadata": {
        "id": "53tfwfnIvOZ8"
      },
      "source": [
        "friend_ages =\t{\n",
        "  \"nick\": \"30\",\n",
        "  \"john\": \"25\",\n",
        "  \"sali\": \"43\",\n",
        "  \"dan\": \"33\"}\n",
        "fav_friend= [\"nick\",\"hop\"] \n",
        "for name in friend_ages.keys():\n",
        "  print(name.title())\n",
        "\n",
        "  if name in fav_friend:\n",
        " \n",
        "     print('Hi '+name.title() +\",I see you are \" + friend_ages[name])"
      ],
      "execution_count": null,
      "outputs": []
    },
    {
      "cell_type": "markdown",
      "metadata": {
        "id": "dYe59uh14qtt"
      },
      "source": [
        "while loop\n",
        "Python has two primitive loop commands:\n",
        "while loops\n",
        "for loops\n",
        "The while Loop\n",
        "With the while loop we can execute a set of statements as long as a condition is true."
      ]
    },
    {
      "cell_type": "code",
      "metadata": {
        "id": "c4zHni5X4uJ1"
      },
      "source": [
        "i = 1\n",
        "while i < 6:\n",
        "  print(i)\n",
        "  i += 1\n",
        "else:\n",
        "  print(\"i is no longer less than 6\")"
      ],
      "execution_count": null,
      "outputs": []
    },
    {
      "cell_type": "markdown",
      "metadata": {
        "id": "ffpXfKBK5RYO"
      },
      "source": [
        "User Input\n",
        "Python allows for user input.\n",
        "That means we are able to ask the user for input.\n",
        "The method is a bit different in Python 3.6 than Python 2.7.\n",
        "Python 3.6 uses the input() method."
      ]
    },
    {
      "cell_type": "code",
      "metadata": {
        "id": "aSfcR1Dp5QC5"
      },
      "source": [
        "username = input(\"Enter username:\")\n",
        "print(\"Username is: \" + username)"
      ],
      "execution_count": null,
      "outputs": []
    },
    {
      "cell_type": "code",
      "metadata": {
        "id": "UdSOaMPu6FfQ"
      },
      "source": [
        "prompt=\"input a message. i will repeat it untill you type 'quit'\"\n",
        "message=\"\"\n",
        "\n",
        "while message !='quit':\n",
        "  message = input(prompt)\n",
        "  print(message)"
      ],
      "execution_count": null,
      "outputs": []
    },
    {
      "cell_type": "markdown",
      "metadata": {
        "id": "LipDh3v3AaUh"
      },
      "source": [
        "Creating a Function\n",
        "In Python a function is defined using the def keyword:\n",
        "\n"
      ]
    },
    {
      "cell_type": "code",
      "metadata": {
        "id": "qKjbpzmaAfQk"
      },
      "source": [
        "#Example creating a function is the first atep\n",
        "def my_function(age):\n",
        "  print(\"Hello from a function\"  + str(age) + \" years old.\")\n",
        "age=77\n",
        "my_function (age)"
      ],
      "execution_count": null,
      "outputs": []
    },
    {
      "cell_type": "code",
      "metadata": {
        "id": "f4Vil56NAwdq"
      },
      "source": [
        "#Calling a Function\n",
        "#To call a function, use the function name followed by parenthesis:\n",
        "\n",
        "#Example\n",
        "def my_function():\n",
        "  print(\"Hello from a function\")\n",
        "\n",
        "my_function()"
      ],
      "execution_count": null,
      "outputs": []
    },
    {
      "cell_type": "code",
      "source": [
        "#Class Exercise\n",
        "def year(age):\n",
        "  print(\"Hello, I am \" + age + \" years old.\")\n",
        "\n",
        "year(15)"
      ],
      "metadata": {
        "id": "0o6kqYUlcSzZ"
      },
      "execution_count": null,
      "outputs": []
    },
    {
      "cell_type": "code",
      "metadata": {
        "id": "hp3bZP4zBAwe"
      },
      "source": [
        "#Information can be passed into functions as arguments.\n",
        "def my_function(fname):\n",
        "  \"This function add up namea\"\n",
        "  print(fname + \" Refsnes\")\n",
        "\n",
        "my_function(\"Emil\")\n",
        "my_function(\"Tobias\")\n",
        "my_function(\"Linus\")"
      ],
      "execution_count": null,
      "outputs": []
    },
    {
      "cell_type": "code",
      "metadata": {
        "colab": {
          "base_uri": "https://localhost:8080/"
        },
        "id": "m9K0lvyqFFPB",
        "outputId": "cd01fa33-35d1-4145-9428-55d11e991a3d"
      },
      "source": [
        "#Lec 7 mini project odd,even\n",
        "\n",
        "num = int(input(\"Enter a number: \"))\n",
        "if (num % 2) == 0:\n",
        "   print(num,\" is Even\".format(num))\n",
        "else:\n",
        "   print(num ,\" is Odd\".format(num))\n"
      ],
      "execution_count": null,
      "outputs": [
        {
          "output_type": "stream",
          "name": "stdout",
          "text": [
            "Enter a number: 7\n",
            "7  is Odd\n"
          ]
        }
      ]
    },
    {
      "cell_type": "code",
      "source": [
        ""
      ],
      "metadata": {
        "id": "RZ8Hfsj3dMmW"
      },
      "execution_count": null,
      "outputs": []
    },
    {
      "cell_type": "code",
      "source": [
        ""
      ],
      "metadata": {
        "id": "p4cGUHVjwBhm"
      },
      "execution_count": null,
      "outputs": []
    },
    {
      "cell_type": "code",
      "metadata": {
        "id": "UBO7C6z2JAnC"
      },
      "source": [
        "def my_function(x):\n",
        "  return 5 * x\n",
        "\n",
        "print(my_function(3))\n",
        "print(my_function(5))\n",
        "print(my_function(9))"
      ],
      "execution_count": null,
      "outputs": []
    },
    {
      "cell_type": "code",
      "source": [
        "def my_function(gggg):\n",
        "  for x in gggg:\n",
        "    print(x)\n",
        "\n",
        "fruits= [\"apple\", \"banana\", \"cherry\"]\n",
        "my_function(fruits)"
      ],
      "metadata": {
        "id": "mrspz-t09Vai"
      },
      "execution_count": null,
      "outputs": []
    },
    {
      "cell_type": "code",
      "metadata": {
        "id": "RJpBBVj65M6H"
      },
      "source": [
        "def my_function(age):\n",
        "  \"\"\"This function add up namea\"\"\"\n",
        "  text = \"My name is john, and I am {} years old\"\n",
        "  print(text.format(age))\n",
        "  print(\"My name is john, and I am\" + str(age) +\"years old\")\n",
        "age=33\n",
        "my_function(age)"
      ],
      "execution_count": null,
      "outputs": []
    },
    {
      "cell_type": "code",
      "source": [
        "def person(age):\n",
        "  \"\"\"How old are you?\"\"\"\n",
        "  print(\"I am \"+age+\" old!\")\n",
        "person(\"33\")"
      ],
      "metadata": {
        "id": "R_ExESbaeesJ"
      },
      "execution_count": null,
      "outputs": []
    },
    {
      "cell_type": "code",
      "source": [
        "#If the number of keyword arguments is unknown, add a double ** before the parameter name:\n",
        "\n",
        "def my_function(**kid):\n",
        "  print(\"His last name is \" + kid[\"lname\"])\n",
        "\n",
        "my_function(fname = \"Tobias\", lname = \"Refsnes\")"
      ],
      "metadata": {
        "id": "EQqi1A8v9uG3"
      },
      "execution_count": null,
      "outputs": []
    },
    {
      "cell_type": "code",
      "source": [
        "def my_function(country = \"Norway\"):\n",
        "  print(\"I am from \" + country)\n",
        "\n",
        "my_function(\"Sweden\")\n",
        "my_function(\"India\")\n",
        "my_function()\n",
        "my_function(\"Brazil\")\n",
        "\n"
      ],
      "metadata": {
        "id": "P9uhD22d-Cyy"
      },
      "execution_count": null,
      "outputs": []
    },
    {
      "cell_type": "code",
      "source": [
        "def my_function(state , country = \"United States\"):\n",
        "  print(\"This state , \" + state + \" , is in the \" + country)\n",
        "\n",
        "my_function(\"New York\")\n",
        "my_function(\"New Jersey\")\n",
        "my_function(\"Florida\")"
      ],
      "metadata": {
        "id": "NMXcx1QPweYB"
      },
      "execution_count": null,
      "outputs": []
    },
    {
      "cell_type": "code",
      "source": [
        " while True:\n",
        "        entry=int(input('Enter a number or 0 to quit:'))\n",
        "        if entry % 2 == 0:\n",
        "            print (format (entry), 'is an even number.')\n",
        "        else:\n",
        "            print (format (entry),'is an odd number.')\n",
        "\n",
        "        if entry == 0:\n",
        "            print ('All done!')\n",
        "            break"
      ],
      "metadata": {
        "id": "vc5zTKzPvgdJ",
        "colab": {
          "base_uri": "https://localhost:8080/"
        },
        "outputId": "1f4047b6-c08d-4f02-e5ae-1377188e89fc"
      },
      "execution_count": null,
      "outputs": [
        {
          "output_type": "stream",
          "name": "stdout",
          "text": [
            "Enter a number or 0 to quit:5\n",
            "5 is an odd number.\n",
            "Enter a number or 0 to quit:0\n",
            "0 is an even number.\n",
            "All done!\n"
          ]
        }
      ]
    },
    {
      "cell_type": "markdown",
      "source": [
        "If the number is a multiple of 4, print out a different message.\n",
        "\n",
        "Ask the user for two numbers: one number to check (call it num) and one number to divide by (check). If check divides evenly into num, tell that to the user. If not, print a different appropriate message."
      ],
      "metadata": {
        "id": "6sDcUHOBjXDC"
      }
    },
    {
      "cell_type": "code",
      "source": [
        "#Mini project bonus\n",
        "\n",
        "    number = get_number() \n",
        "    if(number  % 2 == 0):\n",
        "        print(\"Even number\")\n",
        "        if(number % 4 == 0):\n",
        "           print(\"Even number and multiple of 4\")\n",
        "    else:\n",
        "        print(\"Odd number\")\n",
        "    number2,number3= get_number() , get_number()\n",
        "   \n",
        "    if (number2 % number3 == 0):\n",
        "        print(\"{} evenly devides {}\".format(number2,number3))\n",
        "    else:\n",
        "        print(\"{} not evenly devides by {}\".format(number2,number3))\n",
        "def get_number():\n",
        "       return int(input(\"Enter a number hhhhjjkk\"))\n"
      ],
      "metadata": {
        "id": "M10UpUOwbSkp"
      },
      "execution_count": null,
      "outputs": []
    },
    {
      "cell_type": "markdown",
      "source": [
        ""
      ],
      "metadata": {
        "id": "zCBZBkYdygwW"
      }
    },
    {
      "cell_type": "code",
      "source": [
        ""
      ],
      "metadata": {
        "id": "jPWSgYn3zmja"
      },
      "execution_count": null,
      "outputs": []
    },
    {
      "cell_type": "code",
      "source": [
        ""
      ],
      "metadata": {
        "id": "a_UZD5p-zm-B"
      },
      "execution_count": null,
      "outputs": []
    }
  ]
}